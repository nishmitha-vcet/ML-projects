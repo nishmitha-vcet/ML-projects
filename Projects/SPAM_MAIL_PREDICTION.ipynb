{
  "nbformat": 4,
  "nbformat_minor": 0,
  "metadata": {
    "colab": {
      "name": "SPAM MAIL PREDICTION.ipynb",
      "provenance": [],
      "collapsed_sections": []
    },
    "kernelspec": {
      "name": "python3",
      "display_name": "Python 3"
    }
  },
  "cells": [
    {
      "cell_type": "markdown",
      "metadata": {
        "id": "dNStce6CVIVi"
      },
      "source": [
        "**Spam mail prediction using svm**"
      ]
    },
    {
      "cell_type": "code",
      "metadata": {
        "id": "SGAPVoDlVfaq"
      },
      "source": [
        "import numpy as np\r\n",
        "import pandas as pd\r\n",
        "from sklearn.model_selection import train_test_split\r\n",
        "from sklearn.feature_extraction.text import TfidfVectorizer#to extract features from text.\r\n",
        "from sklearn.svm import LinearSVC\r\n",
        "from sklearn.metrics import accuracy_score"
      ],
      "execution_count": null,
      "outputs": []
    },
    {
      "cell_type": "code",
      "metadata": {
        "id": "RLetB9fmVNr3"
      },
      "source": [
        "mail_data = pd.read_csv('spam.csv' ,encoding='Latin-1')\r\n",
        "#replace null values with null strings\r\n",
        "mdata = mail_data.where((pd.notnull(mail_data)), '') "
      ],
      "execution_count": null,
      "outputs": []
    },
    {
      "cell_type": "code",
      "metadata": {
        "colab": {
          "base_uri": "https://localhost:8080/"
        },
        "id": "wVhBx8cvZzwi",
        "outputId": "df3e2a15-039e-4fb1-df60-07d682d872e1"
      },
      "source": [
        "mdata.shape"
      ],
      "execution_count": null,
      "outputs": [
        {
          "output_type": "execute_result",
          "data": {
            "text/plain": [
              "(5572, 5)"
            ]
          },
          "metadata": {
            "tags": []
          },
          "execution_count": 7
        }
      ]
    },
    {
      "cell_type": "code",
      "metadata": {
        "colab": {
          "base_uri": "https://localhost:8080/",
          "height": 204
        },
        "id": "yM3i8gq0aUcz",
        "outputId": "3336b7c8-1119-4e57-ab96-e982fdd9b7c8"
      },
      "source": [
        "mdata.shape"
      ],
      "execution_count": null,
      "outputs": [
        {
          "output_type": "execute_result",
          "data": {
            "text/html": [
              "<div>\n",
              "<style scoped>\n",
              "    .dataframe tbody tr th:only-of-type {\n",
              "        vertical-align: middle;\n",
              "    }\n",
              "\n",
              "    .dataframe tbody tr th {\n",
              "        vertical-align: top;\n",
              "    }\n",
              "\n",
              "    .dataframe thead th {\n",
              "        text-align: right;\n",
              "    }\n",
              "</style>\n",
              "<table border=\"1\" class=\"dataframe\">\n",
              "  <thead>\n",
              "    <tr style=\"text-align: right;\">\n",
              "      <th></th>\n",
              "      <th>v1</th>\n",
              "      <th>v2</th>\n",
              "      <th>Unnamed: 2</th>\n",
              "      <th>Unnamed: 3</th>\n",
              "      <th>Unnamed: 4</th>\n",
              "    </tr>\n",
              "  </thead>\n",
              "  <tbody>\n",
              "    <tr>\n",
              "      <th>0</th>\n",
              "      <td>ham</td>\n",
              "      <td>Go until jurong point, crazy.. Available only ...</td>\n",
              "      <td></td>\n",
              "      <td></td>\n",
              "      <td></td>\n",
              "    </tr>\n",
              "    <tr>\n",
              "      <th>1</th>\n",
              "      <td>ham</td>\n",
              "      <td>Ok lar... Joking wif u oni...</td>\n",
              "      <td></td>\n",
              "      <td></td>\n",
              "      <td></td>\n",
              "    </tr>\n",
              "    <tr>\n",
              "      <th>2</th>\n",
              "      <td>spam</td>\n",
              "      <td>Free entry in 2 a wkly comp to win FA Cup fina...</td>\n",
              "      <td></td>\n",
              "      <td></td>\n",
              "      <td></td>\n",
              "    </tr>\n",
              "    <tr>\n",
              "      <th>3</th>\n",
              "      <td>ham</td>\n",
              "      <td>U dun say so early hor... U c already then say...</td>\n",
              "      <td></td>\n",
              "      <td></td>\n",
              "      <td></td>\n",
              "    </tr>\n",
              "    <tr>\n",
              "      <th>4</th>\n",
              "      <td>ham</td>\n",
              "      <td>Nah I don't think he goes to usf, he lives aro...</td>\n",
              "      <td></td>\n",
              "      <td></td>\n",
              "      <td></td>\n",
              "    </tr>\n",
              "  </tbody>\n",
              "</table>\n",
              "</div>"
            ],
            "text/plain": [
              "     v1  ... Unnamed: 4\n",
              "0   ham  ...           \n",
              "1   ham  ...           \n",
              "2  spam  ...           \n",
              "3   ham  ...           \n",
              "4   ham  ...           \n",
              "\n",
              "[5 rows x 5 columns]"
            ]
          },
          "metadata": {
            "tags": []
          },
          "execution_count": 8
        }
      ]
    },
    {
      "cell_type": "code",
      "metadata": {
        "id": "YfKwaR1TaZBO"
      },
      "source": [
        "#label spam mail as 0 and ham as 1\r\n",
        "mdata.loc[mdata['v1'] == 'spam','v1',] = 0 #loc enables changing spam as 0 and ham as 1 \r\n",
        "mdata.loc[mdata['v1'] == 'ham','v1',] = 1 "
      ],
      "execution_count": null,
      "outputs": []
    },
    {
      "cell_type": "code",
      "metadata": {
        "id": "y3M-ALXLci1z"
      },
      "source": [
        "#seperate data as test and label. X ---> test Y--->label\r\n",
        "X = mdata['v2']\r\n",
        "Y = mdata['v1']"
      ],
      "execution_count": null,
      "outputs": []
    },
    {
      "cell_type": "code",
      "metadata": {
        "colab": {
          "base_uri": "https://localhost:8080/"
        },
        "id": "2--B0sRxdTQj",
        "outputId": "2d94ce93-ad30-430e-a560-39a94682ac2d"
      },
      "source": [
        "print(X)\r\n",
        "\r\n",
        "print('------------------------------------------')\r\n",
        "\r\n",
        "print(Y)"
      ],
      "execution_count": null,
      "outputs": [
        {
          "output_type": "stream",
          "text": [
            "0       Go until jurong point, crazy.. Available only ...\n",
            "1                           Ok lar... Joking wif u oni...\n",
            "2       Free entry in 2 a wkly comp to win FA Cup fina...\n",
            "3       U dun say so early hor... U c already then say...\n",
            "4       Nah I don't think he goes to usf, he lives aro...\n",
            "                              ...                        \n",
            "5567    This is the 2nd time we have tried 2 contact u...\n",
            "5568                Will Ì_ b going to esplanade fr home?\n",
            "5569    Pity, * was in mood for that. So...any other s...\n",
            "5570    The guy did some bitching but I acted like i'd...\n",
            "5571                           Rofl. Its true to its name\n",
            "Name: v2, Length: 5572, dtype: object\n",
            "------------------------------------------\n",
            "0       1\n",
            "1       1\n",
            "2       0\n",
            "3       1\n",
            "4       1\n",
            "       ..\n",
            "5567    0\n",
            "5568    1\n",
            "5569    1\n",
            "5570    1\n",
            "5571    1\n",
            "Name: v1, Length: 5572, dtype: object\n"
          ],
          "name": "stdout"
        }
      ]
    },
    {
      "cell_type": "code",
      "metadata": {
        "id": "kYLuex4ydTmv"
      },
      "source": [
        "X_train, X_test, Y_train, Y_test = train_test_split(X,Y,train_size=0.8,test_size=0.2,random_state=4)"
      ],
      "execution_count": null,
      "outputs": []
    },
    {
      "cell_type": "code",
      "metadata": {
        "id": "9q7aQbdZe_LV"
      },
      "source": [
        "#transform the text data to feature vectors that can be used as input to SVM model using TfidfVectorizer\r\n",
        "#convert the text to lower case letters\r\n",
        "feature_extraction = TfidfVectorizer(min_df=1 , stop_words='english', lowercase='True')#min_df makes threshold for\r\n",
        "#words that are repeating default value is 1. we need to hX_train_features = feature_extraction.fit_transform(X_train)\r\n",
        "X_train_features = feature_extraction.fit_transform(X_train)\r\n",
        "X_test_features = feature_extraction.transform(X_test)\r\n",
        "\r\n",
        "#convert ytrain and ytest values into integers because 0 and 1 may be recognized as strings thats why.\r\n",
        "Y_train = Y_train.astype('int')\r\n",
        "Y_test  = Y_test.astype('int')\r\n",
        "\r\n"
      ],
      "execution_count": null,
      "outputs": []
    },
    {
      "cell_type": "code",
      "metadata": {
        "colab": {
          "base_uri": "https://localhost:8080/"
        },
        "id": "uHetD7XOivKN",
        "outputId": "a14562f7-82f2-4cd7-d47f-6cd6a1ef4b05"
      },
      "source": [
        "#SVM used for both regression and classification.\r\n",
        "#training SVM\r\n",
        "\r\n",
        "model = LinearSVC()\r\n",
        "model.fit(X_train_features,Y_train)"
      ],
      "execution_count": null,
      "outputs": [
        {
          "output_type": "execute_result",
          "data": {
            "text/plain": [
              "LinearSVC(C=1.0, class_weight=None, dual=True, fit_intercept=True,\n",
              "          intercept_scaling=1, loss='squared_hinge', max_iter=1000,\n",
              "          multi_class='ovr', penalty='l2', random_state=None, tol=0.0001,\n",
              "          verbose=0)"
            ]
          },
          "metadata": {
            "tags": []
          },
          "execution_count": 37
        }
      ]
    },
    {
      "cell_type": "code",
      "metadata": {
        "id": "cvxbF6lwjd8r"
      },
      "source": [
        "#Evaluation\r\n",
        "#prediction on training data\r\n",
        "predictions = model.predict(X_train_features)\r\n",
        "accuracy = accuracy_score(Y_train,predictions)"
      ],
      "execution_count": null,
      "outputs": []
    },
    {
      "cell_type": "code",
      "metadata": {
        "colab": {
          "base_uri": "https://localhost:8080/"
        },
        "id": "4wLO2tMhkgzp",
        "outputId": "17a68e4f-4201-4326-fec6-004eedebc58b"
      },
      "source": [
        "print(\"Accuracy on training data\",accuracy)"
      ],
      "execution_count": null,
      "outputs": [
        {
          "output_type": "stream",
          "text": [
            "Accuracy on training data 0.9997756338344178\n"
          ],
          "name": "stdout"
        }
      ]
    },
    {
      "cell_type": "code",
      "metadata": {
        "id": "kHdJ1ik5lAbp"
      },
      "source": [
        "#prediction on testing data\r\n",
        "p = model.predict(X_test_features)\r\n",
        "a = accuracy_score(Y_test,p)\r\n"
      ],
      "execution_count": null,
      "outputs": []
    },
    {
      "cell_type": "code",
      "metadata": {
        "colab": {
          "base_uri": "https://localhost:8080/"
        },
        "id": "z4MU4Px_oNq4",
        "outputId": "547c97b0-6a26-4452-eae0-653ecf953833"
      },
      "source": [
        "print(\"Accuracy on training data\",a)"
      ],
      "execution_count": null,
      "outputs": [
        {
          "output_type": "stream",
          "text": [
            "Accuracy on training data 0.9847533632286996\n"
          ],
          "name": "stdout"
        }
      ]
    },
    {
      "cell_type": "code",
      "metadata": {
        "colab": {
          "base_uri": "https://localhost:8080/"
        },
        "id": "bDuGwgw4oUQC",
        "outputId": "6bec80fe-4f7d-4bdb-90e1-dc306bf976fc"
      },
      "source": [
        "#Prediction using new mail\r\n",
        "input_data = [\"I HAVE A DATE ON SUNDAY WITH WILL!!\"]\r\n",
        "#convert input_data as feature vectors\r\n",
        "input_mail_fea = feature_extraction.transform(input_data)\r\n",
        "\r\n",
        "#making predictions\r\n",
        "\r\n",
        "prediction = model.predict(input_mail_fea)\r\n",
        "print(prediction)\r\n",
        "\r\n",
        "if(prediction[0]==1) :\r\n",
        "  print('HAM MAIL')\r\n",
        "else :\r\n",
        "  print(\"SPAM MAIL\")"
      ],
      "execution_count": null,
      "outputs": [
        {
          "output_type": "stream",
          "text": [
            "[1]\n",
            "HAM MAIL\n"
          ],
          "name": "stdout"
        }
      ]
    }
  ]
}